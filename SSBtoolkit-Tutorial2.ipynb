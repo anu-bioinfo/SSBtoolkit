{
 "cells": [
  {
   "cell_type": "markdown",
   "id": "243882ac",
   "metadata": {
    "id": "243882ac"
   },
   "source": [
    "<div style=\"padding-bottom:50px\">\n",
    "<img src=\"https://res.cloudinary.com/djz27k5hg/image/upload/v1637335206/logos/Logo_des_Forschungszentrums_J_C3_BClich_seit_2018_hcliq4.svg\"  width=250 align='left' style=\"margin-top:30px\"/>\n",
    "<img src=\"https://res.cloudinary.com/djz27k5hg/image/upload/v1637657234/logos/HBP_horizontal_logo_qtcyzn.png\" width=\"300\" align='left' style=\"margin-left:50px\">\n",
    "</div> \n",
    "\n",
    "<br><br><br><br>\n",
    "\n",
    "# Predicting dose-response curves of antagonists\n",
    "\n",
    "In this tutorial we will simulate a mathematical model of a signaling pathway to obtain dose-response curves of antagonists, from wich their *potencies (IC$_{50}$)* can be infered. \n",
    "\n",
    "\n",
    "\n",
    "\n",
    "This tutorial and the rest in this sequence can be done in Google colab. If you'd like to open this notebook in colab, you can use the following link.\n",
    "\n",
    "<div style='padding:15px'>\n",
    "<a href=\"https://colab.research.google.com/github/rribeiro-sci/SSBtoolkit/blob/main/SSBtoolkit-Tutorial2.ipynb\" target=\"_blank\">\n",
    "<img alt=\"Colab\" src=\"https://res.cloudinary.com/djz27k5hg/image/upload/v1637335713/badges/colab-badge_hh0uyl.svg\" height=\"70\" style=\"margin:20px\">\n",
    "</a>\n",
    "</div>  \n",
    "\n",
    "## Setup\n",
    "\n",
    "To run SSBtoolkit within Google Colab, you'll need to run the following installation commands. You can of course run this tutorial locally if you prefer.\n",
    "\n",
    "\n",
    "<span style=\"color:black\"> ⚠️ WARNING: this notebook is prepared to run on linux machines. If you intend to run it <b>locally</b> on a different OS (MacOS or Windows) you have to set the BioNetGen environment path manually. Running directly on Google colab is OS independent.</span>"
   ]
  },
  {
   "cell_type": "markdown",
   "id": "30a49e95",
   "metadata": {
    "id": "30a49e95"
   },
   "source": [
    "# Install Dependencies\n"
   ]
  },
  {
   "cell_type": "code",
   "execution_count": null,
   "id": "252f9333",
   "metadata": {
    "colab": {
     "base_uri": "https://localhost:8080/"
    },
    "executionInfo": {
     "elapsed": 5518,
     "status": "ok",
     "timestamp": 1635242714574,
     "user": {
      "displayName": "Rui Ribeiro",
      "photoUrl": "https://lh3.googleusercontent.com/a-/AOh14Gi84yvw6ZorTaVXfwVkrOJNMNP5kVkqSPOlY8wVAw=s64",
      "userId": "13743218167624867554"
     },
     "user_tz": -120
    },
    "id": "252f9333",
    "outputId": "b2c93d9e-c5b6-491e-a028-78e9bb7f45ba"
   },
   "outputs": [],
   "source": [
    "#@title Install dependencies\n",
    "%%bash\n",
    "\n",
    "# download SSB source code and install dependencies\n",
    "if [ ! -d \"SSBtoolkit/\" ]; then\n",
    "  git clone https://github.com/rribeiro-sci/SSBtoolkit.git --quiet\n",
    "  pip install -r SSBtoolkit/requirements.txt\n",
    "fi\n"
   ]
  },
  {
   "cell_type": "code",
   "execution_count": null,
   "id": "f0d4fb3a",
   "metadata": {},
   "outputs": [],
   "source": [
    "cd SSBtoolkit"
   ]
  },
  {
   "cell_type": "code",
   "execution_count": null,
   "id": "b6de58e0",
   "metadata": {
    "executionInfo": {
     "elapsed": 2055,
     "status": "ok",
     "timestamp": 1635242716627,
     "user": {
      "displayName": "Rui Ribeiro",
      "photoUrl": "https://lh3.googleusercontent.com/a-/AOh14Gi84yvw6ZorTaVXfwVkrOJNMNP5kVkqSPOlY8wVAw=s64",
      "userId": "13743218167624867554"
     },
     "user_tz": -120
    },
    "id": "b6de58e0"
   },
   "outputs": [],
   "source": [
    "#Import Python dependencies\n",
    "import os, sys, json, math, site\n",
    "import numpy as np\n",
    "import pandas as pd\n",
    "import seaborn as sns\n",
    "import matplotlib.pyplot as plt\n",
    "\n",
    "from pubchempy import *\n",
    "from sklearn.linear_model import LinearRegression\n",
    "\n",
    "from src.lib.ssbtoolkit import convert, get, binding, simulation"
   ]
  },
  {
   "cell_type": "code",
   "execution_count": null,
   "id": "a2d70321",
   "metadata": {
    "colab": {
     "base_uri": "https://localhost:8080/"
    },
    "executionInfo": {
     "elapsed": 6,
     "status": "ok",
     "timestamp": 1635242714575,
     "user": {
      "displayName": "Rui Ribeiro",
      "photoUrl": "https://lh3.googleusercontent.com/a-/AOh14Gi84yvw6ZorTaVXfwVkrOJNMNP5kVkqSPOlY8wVAw=s64",
      "userId": "13743218167624867554"
     },
     "user_tz": -120
    },
    "id": "a2d70321",
    "outputId": "711d5d7e-e986-4768-b2b3-df5def7bb698"
   },
   "outputs": [],
   "source": [
    "#Setting BioNetGen environment path\n",
    "distpath = site.getsitepackages()[0]\n",
    "BioNetGen=os.path.join(distpath, 'bionetgen/bng-linux:')\n",
    "mypath=%env PATH\n",
    "newpath=BioNetGen+mypath\n",
    "%env PATH=$newpath"
   ]
  },
  {
   "cell_type": "code",
   "execution_count": null,
   "id": "Pt0PPuiREUIY",
   "metadata": {
    "colab": {
     "base_uri": "https://localhost:8080/"
    },
    "executionInfo": {
     "elapsed": 1631,
     "status": "ok",
     "timestamp": 1635242880257,
     "user": {
      "displayName": "Rui Ribeiro",
      "photoUrl": "https://lh3.googleusercontent.com/a-/AOh14Gi84yvw6ZorTaVXfwVkrOJNMNP5kVkqSPOlY8wVAw=s64",
      "userId": "13743218167624867554"
     },
     "user_tz": -120
    },
    "id": "Pt0PPuiREUIY",
    "outputId": "a74f1455-968d-46ca-eb3c-f76ecf7ccb55"
   },
   "outputs": [],
   "source": [
    "#Test bioservices\n",
    "from bioservices import UniProt\n",
    "u = UniProt(verbose=False)"
   ]
  },
  {
   "cell_type": "markdown",
   "id": "4a0cd0f2",
   "metadata": {
    "id": "4a0cd0f2"
   },
   "source": [
    "# Loading experimental data"
   ]
  },
  {
   "cell_type": "markdown",
   "id": "32563baa",
   "metadata": {
    "id": "32563baa"
   },
   "source": [
    "Once the SSB environment is set up we are ready to start to simulate.\n",
    "\n",
    "We will begin by load the affinity data of the Adenosine 2A receptor natural ligand (the adenosine) as well as   of some antagonists. The experimental values were taken from *[Guide to Pharmacology](https://www.guidetopharmacology.org/GRAC/ObjectDisplayForward?objectId=19&familyId=3&familyType=GPCR) website*. This data can be found in `examples/A2AR_antagonists_data.csv`."
   ]
  },
  {
   "cell_type": "code",
   "execution_count": null,
   "id": "6eb24708",
   "metadata": {
    "colab": {
     "base_uri": "https://localhost:8080/",
     "height": 204
    },
    "executionInfo": {
     "elapsed": 396,
     "status": "ok",
     "timestamp": 1635242763952,
     "user": {
      "displayName": "Rui Ribeiro",
      "photoUrl": "https://lh3.googleusercontent.com/a-/AOh14Gi84yvw6ZorTaVXfwVkrOJNMNP5kVkqSPOlY8wVAw=s64",
      "userId": "13743218167624867554"
     },
     "user_tz": -120
    },
    "id": "6eb24708",
    "outputId": "9cd4dde3-434b-4777-e772-0bfcbb92908a"
   },
   "outputs": [],
   "source": [
    "data = pd.read_csv('example/A2AR_antagonists_data.csv')\n",
    "data"
   ]
  },
  {
   "cell_type": "markdown",
   "id": "b9d55f51",
   "metadata": {
    "id": "b9d55f51"
   },
   "source": [
    "In <b>Tutorial1</b> the affinity values were directly used to calculate the fraction of occupied receptors, according to the occupancy theory. However such protocol is just valid if we are dealing with agonists. Here, we have to incorporate the competitive antagonism in the protocol. By definition, a competitive antagonist is a drug that inhibits the action of an agonist, having no effect in the absence of the agonist.\n",
    "\n",
    "Therefore, applying the following equation, we can calculate the fraction of occupied receptors by the agonists in the presence of an antaogist:\n",
    "\n",
    "$\\frac{[L_1R]}{{R_{total}}}=\\frac{[L_1]}{[L_1]+K_{d_{L1}}\\big(1+\\frac{[L_2]}{K_{d_{L2}}}\\big)}$\n",
    "\n",
    "Experimentally, studies of antagonists are normally conducted through radioligand binding assays. In this kind of assays, the receptor is saturated first with the agonist, and then, aliquotes of antagonist are applyed to the system in order to reproduce an inhibition curve. \n",
    "\n",
    "To reproduce this experiment *in silico* we have to begin with the calculation of the concentration value of the radioligand/agonist (in our case the adenosine) that saturates the receptor. To achieve this, we will use the SSBtoolkit built-in function `binding.bind()` to obtain a ligand-receptor binding curve. After we will use the `maxbend()`method to interpolate the submaximal (saturate) concentration value.\n",
    "\n",
    "📖 See [The SSB Framework](https://github.com/rribeiro-sci/SSBtoolkit/blob/main/docs/ssb_framework.md) documentation for more details."
   ]
  },
  {
   "cell_type": "code",
   "execution_count": null,
   "id": "d5e23c53",
   "metadata": {},
   "outputs": [],
   "source": [
    "# Setting the ligand concentration range\n",
    "lig_conc_min = 1E-4 # μM\n",
    "lig_conc_max = 1E2 # μM\n",
    "lig_conc_range = np.geomspace(lig_conc_min, lig_conc_max, 20)\n",
    "\n",
    "# Setting receptor concentration\n",
    "receptor_conc = 1E-3 #μM\n",
    "\n",
    "# Getting adenosine pKi from experimental data\n",
    "adenosine_pKi = data[data.Compound == 'adenosine'].pKi.item()"
   ]
  },
  {
   "cell_type": "code",
   "execution_count": null,
   "id": "131f8766",
   "metadata": {},
   "outputs": [],
   "source": [
    "# To obtain the ligand-receptor binding curve for adenosine we will start by initiating a binding instance\n",
    "adenosine_binding = binding()\n",
    "\n",
    "# Performing the binding calculation\n",
    "adenosine_binding.bind(receptor_conc=receptor_conc, lig_conc_range=lig_conc_range, pKd=adenosine_pKi)\n",
    "\n",
    "#Calculating the submaximal concentration value\n",
    "adenosine_binding.maxbend()\n",
    "\n",
    "#Plotting the ligand-receptor binding curve\n",
    "adenosine_binding.show_curve()"
   ]
  },
  {
   "cell_type": "markdown",
   "id": "467cd352",
   "metadata": {},
   "source": [
    "The submaximal concentration value can be accessed by the `submax_concentration` attribute"
   ]
  },
  {
   "cell_type": "code",
   "execution_count": null,
   "id": "91581e54",
   "metadata": {},
   "outputs": [],
   "source": [
    "submax = adenosine_binding.submax_concentration\n",
    "submax"
   ]
  },
  {
   "cell_type": "markdown",
   "id": "f6e92d6a",
   "metadata": {},
   "source": [
    "Once we have the submaximal concentration value of adenosine that saturates the receptor we can calculate the fraction of receptors occupied by the adenosine in the presence of a range of concentration of antagonists. This calculation is automatically done during the simulation. However, we can obtain the ligand-receptor binding curves: "
   ]
  },
  {
   "cell_type": "markdown",
   "id": "2582a824",
   "metadata": {
    "id": "2582a824"
   },
   "source": [
    "# Selecting the signaling pathway \n",
    "\n",
    "The core of the SSB framework is, naturally, the mathematical models of the signaling pathways. \n",
    "\n",
    "Since G-protein sub-families are classified by their $\\alpha$ subunits, this classfication as been served to identify their signaling pathways:\n",
    "* G<sub>s</sub>\n",
    "* G<sub>i/o</sub>\n",
    "* G<sub>q/11</sub>\n",
    "* G<sub>12/13</sub>\n",
    "\n",
    "📖 See [The SSB Framework](https://github.com/rribeiro-sci/SSBtoolkit/blob/main/docs/ssb_framework.md) documentation for more details.\n",
    "\n",
    "We can define manualy the G$\\alpha$ pathway we want to work with, or simply query our internal database of human GPCR pathways using the UNIPROT id of our receptor. The UNIPROT id for the human Adenosine A2 receptot is [P29274](https://www.uniprot.org/uniprot/P29274)."
   ]
  },
  {
   "cell_type": "code",
   "execution_count": null,
   "id": "a13d4b1d",
   "metadata": {
    "colab": {
     "base_uri": "https://localhost:8080/",
     "height": 54
    },
    "executionInfo": {
     "elapsed": 316,
     "status": "ok",
     "timestamp": 1635242721789,
     "user": {
      "displayName": "Rui Ribeiro",
      "photoUrl": "https://lh3.googleusercontent.com/a-/AOh14Gi84yvw6ZorTaVXfwVkrOJNMNP5kVkqSPOlY8wVAw=s64",
      "userId": "13743218167624867554"
     },
     "user_tz": -120
    },
    "id": "a13d4b1d",
    "outputId": "f224a164-aa38-4c55-e029-9c0d3f338f7e"
   },
   "outputs": [],
   "source": [
    "uniprotID = 'P29274'\n",
    "gprotein=get.gprotein(uniprotID)\n",
    "gprotein"
   ]
  },
  {
   "cell_type": "markdown",
   "id": "f22b9785",
   "metadata": {
    "id": "f22b9785"
   },
   "source": [
    "💡 It is also possible to known the associated G$\\alpha$ pathway of a GPCR using the primary sequence, see in [Docs](https://github.com/rribeiro-sci/SSBtoolkit/blob/main/docs/ssb_code.md).\n",
    "\n",
    "\n",
    "<span style=\"color:black\">⚠️ WARNING: our framework was specifically design for human GPCR. The quering for pathways for GPCRs other than Human may be included in the future. However you want to study a non-human GPCR you can still use the SSB framework by setting manually the G$\\alpha$ pathway.</span>\n"
   ]
  },
  {
   "cell_type": "markdown",
   "id": "90fa3c37",
   "metadata": {
    "id": "90fa3c37"
   },
   "source": [
    "# Setting the parameters for simulation\n",
    "\n",
    "To predict a dose-response curve from the simulation of signaling pathways, individual simulations of the pathway according to a series of ligand's concentrations must be performed (as it would be done in the wet-lab).  \n",
    "\n",
    "To define an array of ligand concentrations we will use a geometric progression. The reason why we use a geometric progression is due to the impact of the dilution fraction on the accuracy of K<sub>d</sub> and EC<sub>50</sub>/IC<sub>50</sub> values experimentally estimated. This factor, that defines the spacing between the adjacent concentration values, has an impact on the concentration values that are on the linear portion of the curve. Therefore, using a geometric progression we can mimic the experimental conditions where each concentration equals to the power of 2 of the previous lowest concentration *([Sebaugh, J.L., 2011](https://doi.org/10.1002/pst.426))*\n",
    "\n",
    "<span style=\"color:black\"> ⚠️ WARNING: the SSB framework uses μM as default concentration units.</span>\n"
   ]
  },
  {
   "cell_type": "code",
   "execution_count": null,
   "id": "1dd753fc",
   "metadata": {
    "executionInfo": {
     "elapsed": 743,
     "status": "ok",
     "timestamp": 1635242786029,
     "user": {
      "displayName": "Rui Ribeiro",
      "photoUrl": "https://lh3.googleusercontent.com/a-/AOh14Gi84yvw6ZorTaVXfwVkrOJNMNP5kVkqSPOlY8wVAw=s64",
      "userId": "13743218167624867554"
     },
     "user_tz": -120
    },
    "id": "1dd753fc"
   },
   "outputs": [],
   "source": [
    "# the range of ligand concentration\n",
    "lig_conc_min = 1E-4 # μM\n",
    "lig_conc_max = 1E4  # μM\n",
    "lig_conc_range = np.geomspace(lig_conc_min, lig_conc_max, 20) # 20 concentration values\n",
    "\n",
    "# Setting receptor concentration\n",
    "receptor_conc = 1E-3 #μM\n",
    "\n",
    "# defining other simulation parameters:\n",
    "time = 10000  # time of simulation in seconds\n",
    "dt   = 1000     # integration step for simulation\n"
   ]
  },
  {
   "cell_type": "markdown",
   "id": "2ec0b301",
   "metadata": {
    "id": "2ec0b301"
   },
   "source": [
    "## Running the simulation\n",
    "\n",
    "After having defined all the simulation parameters we are ready to proceed with the simulations. A simulation of a methamatical model of a signaling pathway consists of the integration of a set of ordinary differential equations (ODEs) as function of time. Since each ODE represents a molecular event of the signaling pathway, when integrated over time, such equations can describe how the concentration of species inside the model changes over time. The key point of this tutorial is the use of the drug-receptor affinity value (K<sub>d</sub>) to fire up the model. Which the K<sub>d</sub> values one can calculate the fraction of receptors that are occupied by the ligand in the equilibrium. And, according to the *occupancy theory*, the fraction of occupied receptors represents the concentration of activated receptors in the equilibrium *([Kenakin T., 2004 ](https://doi.org/10.1016/j.tips.2004.02.012))*. 📖 Read the [Docs](https://github.com/rribeiro-sci/SSBtoolkit/blob/main/docs/ssb_framework.md) for more details.\n",
    "\n",
    "\n",
    "In this tutorial we want to explore dose-response curves of antaoginsts towards Adenosine A2 receptor, so, we will use the SSBtoolkit built-in class `simulation.inhibition()`. \n",
    "\n",
    "\n",
    "<span style='color:black'>ℹ️ If you want study agonist only follow the tutorial [Prediction of dose-responses curves from affinity values (Agonists)](https://github.com/rribeiro-sci/SSBtoolkit/blob/main/SSBtoolkit-Tutorial1.ipynb).</span>\n"
   ]
  },
  {
   "cell_type": "code",
   "execution_count": null,
   "id": "7b414529",
   "metadata": {},
   "outputs": [],
   "source": [
    "#create a simulation instance.\n",
    "sim = simulation.inhibition()"
   ]
  },
  {
   "cell_type": "code",
   "execution_count": null,
   "id": "31d2566f",
   "metadata": {},
   "outputs": [],
   "source": [
    "#Setting the simulation parameters\n",
    "sim.SetSimulationParameters(agonist = 'adenosine', \n",
    "                             agonist_affinity = adenosine_pKi, \n",
    "                             agonist_submaximal_conc=submax,\n",
    "                             antagonists = data.Compound.to_list()[1:3], \n",
    "                             antagonists_affinities=data.pKi.to_list()[1:3], \n",
    "                             lig_conc_range=lig_conc_range, \n",
    "                             receptor_conc=receptor_conc, \n",
    "                             pathway=gprotein, \n",
    "                             ttotal=time, \n",
    "                             nsteps=dt, \n",
    "                             kinetics=False, \n",
    "                             kinetic_parameters=None)"
   ]
  },
  {
   "cell_type": "code",
   "execution_count": null,
   "id": "42df9417",
   "metadata": {
    "colab": {
     "base_uri": "https://localhost:8080/"
    },
    "executionInfo": {
     "elapsed": 416269,
     "status": "ok",
     "timestamp": 1635243487755,
     "user": {
      "displayName": "Rui Ribeiro",
      "photoUrl": "https://lh3.googleusercontent.com/a-/AOh14Gi84yvw6ZorTaVXfwVkrOJNMNP5kVkqSPOlY8wVAw=s64",
      "userId": "13743218167624867554"
     },
     "user_tz": -120
    },
    "id": "42df9417",
    "outputId": "edac904b-6981-48f5-825b-d9ca850cd31b"
   },
   "outputs": [],
   "source": [
    "#Running the simulation\n",
    "sim.Run()"
   ]
  },
  {
   "cell_type": "markdown",
   "id": "b6332846",
   "metadata": {
    "id": "b6332846"
   },
   "source": [
    "In the end, the concentration values of the species of the signaling pathway over the simulation time will be saved inside the instance.\n",
    "\n",
    "The response of a signaling pathway is, naturally, represented by the increase or decrease of one of the species described by the model. So, to predict the dose-response curve we need, firstly, to extract the maximum concentration value orbserved for one specie from each individual simulation (from the series of simulations for each ligand concentration). Then, such values will be fitted to a logistic regression. \n",
    "\n",
    "To achieve this, we will use the analysis attribute:"
   ]
  },
  {
   "cell_type": "code",
   "execution_count": null,
   "id": "15cc2c79",
   "metadata": {
    "executionInfo": {
     "elapsed": 502,
     "status": "ok",
     "timestamp": 1635243570765,
     "user": {
      "displayName": "Rui Ribeiro",
      "photoUrl": "https://lh3.googleusercontent.com/a-/AOh14Gi84yvw6ZorTaVXfwVkrOJNMNP5kVkqSPOlY8wVAw=s64",
      "userId": "13743218167624867554"
     },
     "user_tz": -120
    },
    "id": "15cc2c79"
   },
   "outputs": [],
   "source": [
    "sim.Analysis()"
   ]
  },
  {
   "cell_type": "markdown",
   "id": "345d50d5",
   "metadata": {},
   "source": [
    "We can now to plot the dose-response curves:"
   ]
  },
  {
   "cell_type": "code",
   "execution_count": null,
   "id": "73b02402",
   "metadata": {
    "colab": {
     "base_uri": "https://localhost:8080/",
     "height": 667,
     "output_embedded_package_id": "1fZnuf91nfkH4RA5DnAbfv0nxXjTr1CaU"
    },
    "executionInfo": {
     "elapsed": 57358,
     "status": "ok",
     "timestamp": 1635243629767,
     "user": {
      "displayName": "Rui Ribeiro",
      "photoUrl": "https://lh3.googleusercontent.com/a-/AOh14Gi84yvw6ZorTaVXfwVkrOJNMNP5kVkqSPOlY8wVAw=s64",
      "userId": "13743218167624867554"
     },
     "user_tz": -120
    },
    "id": "73b02402",
    "outputId": "e1f6ee2e-d2b1-4bf5-fbf6-c875ed150ff5"
   },
   "outputs": [],
   "source": [
    "sim.Curve()"
   ]
  },
  {
   "cell_type": "markdown",
   "id": "e1ec8748",
   "metadata": {
    "id": "e1ec8748"
   },
   "source": [
    "Finnaly, from the dose-response curves we can interpolate the IC<sub>50</sub> values.\n"
   ]
  },
  {
   "cell_type": "code",
   "execution_count": null,
   "id": "31bb7f25",
   "metadata": {
    "colab": {
     "base_uri": "https://localhost:8080/",
     "height": 204
    },
    "executionInfo": {
     "elapsed": 24,
     "status": "ok",
     "timestamp": 1635243629768,
     "user": {
      "displayName": "Rui Ribeiro",
      "photoUrl": "https://lh3.googleusercontent.com/a-/AOh14Gi84yvw6ZorTaVXfwVkrOJNMNP5kVkqSPOlY8wVAw=s64",
      "userId": "13743218167624867554"
     },
     "user_tz": -120
    },
    "id": "31bb7f25",
    "outputId": "0a96c0c4-de7e-45d2-c9f7-5e2f42ac402e"
   },
   "outputs": [],
   "source": [
    "sim.Potency()"
   ]
  },
  {
   "cell_type": "markdown",
   "id": "65865549",
   "metadata": {},
   "source": [
    "💡 The potency predicted values can be exported as a python dictionary usinf the attribute `sim.PotencyToDict()` or saved in a csv file using the attribute `sim.PotencyToCSV()`. 📖 See the [Docs](https://github.com/rribeiro-sci/SSBtoolkit/blob/main/docs/ssb_code.md) to know how to save directly on Google Drive and for more details."
   ]
  },
  {
   "cell_type": "markdown",
   "id": "2f124747",
   "metadata": {
    "id": "2f124747"
   },
   "source": [
    "# Congratulations!\n",
    "\n",
    "Congratulations on completing this tutorial notebook! If you enjoyed working through the tutorial, and want to continue working with SSB framework, we encourage you to finish the rest of the tutorials in this series. \n",
    "\n",
    "# Cite Us\n",
    "\n",
    "If you use or adapt this tutorial for your own research projects please cite us.\n",
    "\n",
    "```\n",
    "@article{XXX,\n",
    "    title={XXX},\n",
    "    author={XXX},\n",
    "    publisher={XXX},\n",
    "    note={\\url{XXX}},\n",
    "    year={XXX}\n",
    "}\n",
    "```\n",
    "\n",
    "\n",
    "\n",
    "# Acknowledgments\n",
    "\n",
    "EU Human Brain Project (SGA1 and SGA2): This open source software was developed in part in the Human Brain Project funded from the European Union's Horizon 2020 Framework Programme for Research and Innovation under Specific Grant Agreements No 720270 and No. 78907 (Human Brain Project SGA1 and SGA2).\n",
    "\n",
    "<div style=\"padding-bottom:50px\">\n",
    "<img src=\"https://res.cloudinary.com/djz27k5hg/image/upload/v1637657234/logos/HBP_horizontal_logo_qtcyzn.png\" width=\"300\" align='left' style=\"margin-left:50px\">\n",
    "    <img src=\"https://res.cloudinary.com/djz27k5hg/image/upload/v1642677502/logos/COFUNDED_EU_j2ktlp.jpg\" width=\"300\" align='left' style=\"margin-left:50px\">\n",
    "</div>  "
   ]
  }
 ],
 "metadata": {
  "colab": {
   "collapsed_sections": [],
   "name": "SSBtoolkit-Tutorial1.ipynb",
   "provenance": [
    {
     "file_id": "https://github.com/rribeiro-sci/SSBtoolkit/blob/main/SSBtoolkit-Tutorial1.ipynb",
     "timestamp": 1632821634793
    }
   ]
  },
  "kernelspec": {
   "display_name": "Python 3",
   "language": "python",
   "name": "python3"
  },
  "language_info": {
   "codemirror_mode": {
    "name": "ipython",
    "version": 3
   },
   "file_extension": ".py",
   "mimetype": "text/x-python",
   "name": "python",
   "nbconvert_exporter": "python",
   "pygments_lexer": "ipython3",
   "version": "3.8.10"
  }
 },
 "nbformat": 4,
 "nbformat_minor": 5
}
