{
 "cells": [
  {
   "cell_type": "markdown",
   "id": "243882ac",
   "metadata": {
    "id": "243882ac"
   },
   "source": [
    "<div style=\"padding-bottom:50px\">\n",
    "<img src=\"https://res.cloudinary.com/djz27k5hg/image/upload/v1637335206/logos/Logo_des_Forschungszentrums_J_C3_BClich_seit_2018_hcliq4.svg\"  width=250 align='left' style=\"margin-top:30px\"/>\n",
    "<img src=\"https://res.cloudinary.com/djz27k5hg/image/upload/v1637657234/logos/HBP_horizontal_logo_qtcyzn.png\" width=\"300\" align='left' style=\"margin-left:50px\">\n",
    "</div>  \n",
    "<br><br><br><br>\n",
    "\n",
    "# Exploring SSB pathways associated to disease varitants \n",
    "\n",
    "## The OXTR pathway as a study case\n",
    "\n",
    "In this notebook we will simulate mathematical model of a signaling pathway of the Oxytocin receptor in order to give a rational on experimental observation on a disease associated variance of a receptor.\n",
    "\n",
    "This notebook is based on:\n",
    "<blockquote>\n",
    "Meyer, M., Jurek, B., Alfonso-Prieto, M. et al. Structure-function relationships of the \n",
    "disease-linked A218T oxytocin receptor variant. Mol Psychiatry (2022). \n",
    "<a href=\"https://doi.org/10.1038/s41380-021-01241-8\" target=\"_bank\"> https://doi.org/10.1038/s41380-021-01241-8</a>\n",
    "</blockquote>\n",
    "\n",
    "\n",
    "\n",
    "This tutorial and the rest in this sequence can be done in Google colab. If you'd like to open this notebook in colab, you can use the following link.\n",
    "\n",
    "<div style='padding:15px'>\n",
    "<a href=\"https://colab.research.google.com/github/rribeiro-sci/SSBtoolkit/blob/main/SSBtoolkit-Tutorial4-OXTR.ipynb\" target=\"_blank\">\n",
    "<img alt=\"Colab\" src=\"https://res.cloudinary.com/djz27k5hg/image/upload/v1637335713/badges/colab-badge_hh0uyl.svg\" height=\"70\" style=\"margin:20px\">\n",
    "</a>\n",
    "</div>\n",
    "\n",
    "## Setup\n",
    "\n",
    "To run SSBColab within Google Colab, you'll need to run the following installation commands. You can of course run this tutorial locally if you prefer.\n",
    "\n",
    "\n",
    "<span style=\"color:black\"> ⚠️ WARNING: this notebook is prepared to run on linux machines. If you intend to run it <b>locally</b> on a different OS (MacOS or Windows) you have to set the BioNetGen environment path manually. Running directly on Google Collab is OS independent.</span>"
   ]
  },
  {
   "cell_type": "markdown",
   "id": "30a49e95",
   "metadata": {
    "id": "30a49e95"
   },
   "source": [
    "# Install Dependencies\n"
   ]
  },
  {
   "cell_type": "code",
   "execution_count": null,
   "id": "f3377103",
   "metadata": {
    "colab": {
     "base_uri": "https://localhost:8080/"
    },
    "executionInfo": {
     "elapsed": 5518,
     "status": "ok",
     "timestamp": 1635242714574,
     "user": {
      "displayName": "Rui Ribeiro",
      "photoUrl": "https://lh3.googleusercontent.com/a-/AOh14Gi84yvw6ZorTaVXfwVkrOJNMNP5kVkqSPOlY8wVAw=s64",
      "userId": "13743218167624867554"
     },
     "user_tz": -120
    },
    "id": "252f9333",
    "outputId": "b2c93d9e-c5b6-491e-a028-78e9bb7f45ba"
   },
   "outputs": [],
   "source": [
    "#@title Install dependencies\n",
    "%%bash\n",
    "\n",
    "# download SSB source code and install dependencies\n",
    "if [ ! -d \"SSBtoolkit/\" ]; then\n",
    "  git clone https://github.com/rribeiro-sci/SSBtoolkit.git --quiet\n",
    "  pip install -r SSBtoolkit/requirements.txt\n",
    "fi\n"
   ]
  },
  {
   "cell_type": "code",
   "execution_count": null,
   "id": "c00d9657",
   "metadata": {},
   "outputs": [],
   "source": [
    "cd SSBtoolkit"
   ]
  },
  {
   "cell_type": "code",
   "execution_count": null,
   "id": "b6de58e0",
   "metadata": {
    "executionInfo": {
     "elapsed": 2055,
     "status": "ok",
     "timestamp": 1635242716627,
     "user": {
      "displayName": "Rui Ribeiro",
      "photoUrl": "https://lh3.googleusercontent.com/a-/AOh14Gi84yvw6ZorTaVXfwVkrOJNMNP5kVkqSPOlY8wVAw=s64",
      "userId": "13743218167624867554"
     },
     "user_tz": -120
    },
    "id": "b6de58e0"
   },
   "outputs": [],
   "source": [
    "#Import Python dependencies\n",
    "import os, sys, json, math, site\n",
    "import numpy as np\n",
    "import pandas as pd\n",
    "import seaborn as sns\n",
    "import matplotlib.pyplot as plt\n",
    "\n",
    "from pubchempy import *\n",
    "from sklearn.linear_model import LinearRegression\n",
    " \n",
    "from src.lib.ssbtoolkit import convert, get, simulation"
   ]
  },
  {
   "cell_type": "code",
   "execution_count": null,
   "id": "a2d70321",
   "metadata": {
    "colab": {
     "base_uri": "https://localhost:8080/"
    },
    "executionInfo": {
     "elapsed": 6,
     "status": "ok",
     "timestamp": 1635242714575,
     "user": {
      "displayName": "Rui Ribeiro",
      "photoUrl": "https://lh3.googleusercontent.com/a-/AOh14Gi84yvw6ZorTaVXfwVkrOJNMNP5kVkqSPOlY8wVAw=s64",
      "userId": "13743218167624867554"
     },
     "user_tz": -120
    },
    "id": "a2d70321",
    "outputId": "711d5d7e-e986-4768-b2b3-df5def7bb698"
   },
   "outputs": [],
   "source": [
    "#Setting BioNetGen environment path\n",
    "distpath = site.getsitepackages()[0]\n",
    "BioNetGen=os.path.join(distpath, 'bionetgen/bng-linux:')\n",
    "mypath=%env PATH\n",
    "newpath=BioNetGen+mypath\n",
    "%env PATH=$newpath"
   ]
  },
  {
   "cell_type": "code",
   "execution_count": null,
   "id": "Pt0PPuiREUIY",
   "metadata": {
    "colab": {
     "base_uri": "https://localhost:8080/"
    },
    "executionInfo": {
     "elapsed": 1631,
     "status": "ok",
     "timestamp": 1635242880257,
     "user": {
      "displayName": "Rui Ribeiro",
      "photoUrl": "https://lh3.googleusercontent.com/a-/AOh14Gi84yvw6ZorTaVXfwVkrOJNMNP5kVkqSPOlY8wVAw=s64",
      "userId": "13743218167624867554"
     },
     "user_tz": -120
    },
    "id": "Pt0PPuiREUIY",
    "outputId": "a74f1455-968d-46ca-eb3c-f76ecf7ccb55"
   },
   "outputs": [],
   "source": [
    "#Test bioservices\n",
    "from bioservices import UniProt\n",
    "u = UniProt(verbose=False)"
   ]
  },
  {
   "cell_type": "markdown",
   "id": "32563baa",
   "metadata": {
    "id": "32563baa"
   },
   "source": [
    "# Introduction\n",
    "\n",
    "The neuropeptide oxytocin (OXT) regulates multiple social and emotional behaviours, such as bonding, reciprocal trust, aggression, fear and anxiety, both in animals and humans (REF). It has been suggested as a biomarker and target for the treatment of Autims spectrum Disorder (ASD) [(Mayer et al. 2022)](https://doi.org/10.1038/s41380-021-01241-8).\n",
    "\n",
    "The OXT exerts its function by binding to its target receptor (OXTR), a member of the Class A G-protein coupled receptors (GPCR) family.\n",
    "\n",
    "The mutation of an alanine residue at position 218 to a threonine on the OXTR was associated with a fenotype related to ASD.\n",
    "\n",
    "In vitro experiments have shown a difference on the dynamics of the intracellular Ca<sup>2+</sup> between the OXTR-WT and OXTR-A218T.\n",
    "\n",
    "\n",
    "In order to give a better understand behind these difference we will applied the SSB framework to fit a mathematical model of the OXTR signaling pathway to the observable experimental resutls.\n",
    "\n",
    "Since we want to simulate and study the dynamics of Ca<sup>2+</sup> release from the Endoplasmic reticulum and this internal Ca<sup>2+</sup> release is trigered by the G<sub>q</sub> pathway (which OXTR couples), we will use a combination of two prevously existing models: a model for the activation of the G<sub>q</sub> protein and a dynamic model of the IP<sub>3</sub>R action. See REF for all the details.\n",
    "\n",
    "# Experimental Data\n",
    "\n",
    "<blockquote>In vitro evaluation of cellular Ca<sup>2+</sup> responses using Fura-2 Ca<sup>2+</sup> imaging (see figure <b>a</b> and <b>b</b>) revealed reduced basal cytosolic Ca<sup>2+</sup> levels in A218T cells compared to WT, both in the presence and absence of extracellular Ca<sup>2+</sup> (figure <b>c</b>). \n",
    "\n",
    "However, the amplitude of the OXT-induced Ca<sup>2+</sup> signal was higher in A218T cells compared with WT cells incubated in Ca<sup>2+</sup>-free Ringer (figure <b>d</b>). \n",
    "        \n",
    "The area under the curve revealed a cell line-specific effect showing a higher increase in the cytosolic Ca<sup>2+</sup> concentration upon OXT stimulation in A218T compared to WT cells (figure <b>e</b>). \n",
    "    \n",
    "The full width at half maximum, which reflects the kinetics of the OXT-induced Ca<sup>2+</sup> response, also differed significantly between the two cell lines irrespective of the bathing solution, indicating a prolonged OXT-induced Ca<sup>2+</sup> response in the A218T cells (figure <b>f</b>).\n",
    "\n",
    "\n",
    "<div style=\"padding-bottom:50px\">\n",
    "<img src=\"https://res.cloudinary.com/djz27k5hg/image/upload/v1640172296/SSBColab/OXT_results_vsvpns.png\" width=600/>\n",
    "</div>  \n",
    "\n",
    "</blockquote>\n",
    "\n",
    "\n"
   ]
  },
  {
   "cell_type": "markdown",
   "id": "5c8b1eb2",
   "metadata": {},
   "source": [
    "# Modeling of the Ca<sup>2+</sup> concentration differences between WT and A218T OXTR\n",
    "\n",
    "Our mail goal is to use the <b>SSB framework</b> to rationalize the experimentally measured Ca<sup>2+</sup> concentrations with 100 nM OXT and in the absence of extracellular Ca<sup>2+</sup> (<b>figure e, blue bars</b>). \n",
    "\n",
    "Molecular modeling results had suggested that the A218T variant affects receptor activation (see [Mayer et al. 2022](https://doi.org/10.1038/s41380-021-01241-8) for all the details). This means that we could speculate that the variant may influence the kinetic parameters that rules the activation reaction of the receptor. \n",
    "\n",
    "Therefore we will simulate the OXTR signalling model by varying the forward kinetic constant of the reaction that describes Gq-protein binding to the receptor, which implicitly depends on receptor activation. \n",
    "\n",
    "To achienve this we will use the SSB toolkit built-in function `simulation.fitModel()`. This function allows us to iteractivelly simulate the model untill to obtain the a disered ratio of the concentration of a signalling specie between a model simulated with modified parameters and a model simualted with reference parameters."
   ]
  },
  {
   "cell_type": "markdown",
   "id": "0ec4dfd2",
   "metadata": {},
   "source": [
    "At first place we need to set up the following parameters:\n",
    "* **fitting parameters**\n",
    "* **simulation parameters**\n",
    "* **network parameters**\n",
    "    "
   ]
  },
  {
   "cell_type": "markdown",
   "id": "e10441f4",
   "metadata": {},
   "source": [
    "#### Fitting Parameters\n",
    "\n",
    "* expratio (float)          --> experimental signalling specie concentration ratio\n",
    "* target_parameter (sting)  --> kinetic parameter to me modified\n",
    "* maxiter  (integer)          --> maximum number of iteration\n",
    "* seed     (float)          --> ramdom seed for scaling the modified parameter\n",
    "* seed_incrementor (float)  --> seed incrementor (each iteration will increment the seed by this value)\n",
    "* seed_decrementor (float)  --> seed decrementor (each iteration will decrement the seed by this value)\n",
    "\n",
    "\n",
    "#### Simulation Parameters\n",
    "\n",
    "* ttotal   (integer)     --> time of simulation in seconds\n",
    "* nsteps   (integer)     --> integration step for simulation\n",
    "* network_name (string) --> name of the signalling pathway (from the SSB framework internal DB)\n",
    "* observable (string)   --> signalling specie to be measured\n",
    "\n",
    "#### Network Parameters\n",
    "\n",
    "* time_in  (integer)     --> simulation time at wich the reaction will start to be simulated \n",
    "* time_out (integer)     --> simulation time at wich the reaction will stop to be simulated"
   ]
  },
  {
   "cell_type": "code",
   "execution_count": null,
   "id": "b98a218f",
   "metadata": {
    "executionInfo": {
     "elapsed": 454,
     "status": "ok",
     "timestamp": 1635243066530,
     "user": {
      "displayName": "Rui Ribeiro",
      "photoUrl": "https://lh3.googleusercontent.com/a-/AOh14Gi84yvw6ZorTaVXfwVkrOJNMNP5kVkqSPOlY8wVAw=s64",
      "userId": "13743218167624867554"
     },
     "user_tz": -120
    },
    "id": "b98a218f"
   },
   "outputs": [],
   "source": [
    "m = simulation.fitModel()"
   ]
  },
  {
   "cell_type": "code",
   "execution_count": null,
   "id": "247db854",
   "metadata": {},
   "outputs": [],
   "source": [
    "m.SetSimulationParameters(ttotal=250, \n",
    "                            nsteps=10000, \n",
    "                            pathway = 'OXTR_pathway', \n",
    "                            observable='Ca', \n",
    "                            pathway_parameters={'time_in':50, \n",
    "                                                'time_out':51})\n"
   ]
  },
  {
   "cell_type": "code",
   "execution_count": null,
   "id": "6573b419",
   "metadata": {},
   "outputs": [],
   "source": [
    "m.Run(expratio = 1.13, \n",
    "      target_parameter='R_L_Gq_trimer_kf',\n",
    "      maxiter = 20, \n",
    "      seed = 0.2, \n",
    "      seed_incrementor = 0.5, \n",
    "      seed_decrementor=0.1)"
   ]
  },
  {
   "cell_type": "code",
   "execution_count": null,
   "id": "bfc8039f",
   "metadata": {},
   "outputs": [],
   "source": [
    "m.plotCurves()"
   ]
  },
  {
   "cell_type": "markdown",
   "id": "2f124747",
   "metadata": {
    "id": "2f124747"
   },
   "source": [
    "# Congratulations! \n",
    "\n",
    "Congratulations on completing this tutorial notebook! If you enjoyed working through the tutorial, and want to continue working with SSB framework, we encourage you to finish the rest of the tutorials in this series. \n",
    "\n",
    "# Cite Us\n",
    "\n",
    "If you use or adapt this tutorial for your own research projects please cite us.\n",
    "\n",
    "```\n",
    "@article{XXX,\n",
    "    title={XXX},\n",
    "    author={XXX},\n",
    "    publisher={XXX},\n",
    "    note={\\url{XXX}},\n",
    "    year={XXX}\n",
    "}\n",
    "```\n",
    "\n",
    "\n",
    "\n",
    "# Acknowledgments\n",
    "\n",
    "EU Human Brain Project (SGA1 and SGA2): This open source software was developed in part in the Human Brain Project funded from the European Union's Horizon 2020 Framework Programme for Research and Innovation under Specific Grant Agreements No 720270 and No. 78907 (Human Brain Project SGA1 and SGA2).\n",
    "\n",
    "<div style=\"padding-bottom:50px\">\n",
    "<img src=\"https://res.cloudinary.com/djz27k5hg/image/upload/v1637657234/logos/HBP_horizontal_logo_qtcyzn.png\" width=\"300\" align='left' style=\"margin-left:50px\">\n",
    "    <img src=\"https://res.cloudinary.com/djz27k5hg/image/upload/v1642677502/logos/COFUNDED_EU_j2ktlp.jpg\" width=\"300\" align='left' style=\"margin-left:50px\">\n",
    "</div>  "
   ]
  }
 ],
 "metadata": {
  "colab": {
   "collapsed_sections": [],
   "name": "SSBtoolkit-Tutorial4-OXTR.ipynb",
   "provenance": [
    {
     "file_id": "https://github.com/rribeiro-sci/SSBtoolkit/blob/main/SSBtoolkit-Tutorial4-OXTR.ipynb",
     "timestamp": 1632821634793
    }
   ]
  },
  "kernelspec": {
   "display_name": "Python 3",
   "language": "python",
   "name": "python3"
  },
  "language_info": {
   "codemirror_mode": {
    "name": "ipython",
    "version": 3
   },
   "file_extension": ".py",
   "mimetype": "text/x-python",
   "name": "python",
   "nbconvert_exporter": "python",
   "pygments_lexer": "ipython3",
   "version": "3.8.10"
  }
 },
 "nbformat": 4,
 "nbformat_minor": 5
}
