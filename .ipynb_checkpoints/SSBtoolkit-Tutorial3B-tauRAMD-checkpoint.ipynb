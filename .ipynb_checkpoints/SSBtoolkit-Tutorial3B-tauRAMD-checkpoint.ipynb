{
 "cells": [
  {
   "cell_type": "markdown",
   "id": "243882ac",
   "metadata": {
    "id": "243882ac"
   },
   "source": [
    "<div style=\"padding-bottom:50px\">\n",
    "<img src=\"https://res.cloudinary.com/djz27k5hg/image/upload/v1637335206/logos/Logo_des_Forschungszentrums_J_C3_BClich_seit_2018_hcliq4.svg\"  width=250 align='left' style=\"margin-top:30px\"/>\n",
    "<img src=\"https://res.cloudinary.com/djz27k5hg/image/upload/v1637657234/logos/HBP_horizontal_logo_qtcyzn.png\" width=\"300\" align='left' style=\"margin-left:50px\">\n",
    "</div>  \n",
    "<br><br><br><br>\n",
    "\n",
    "\n",
    "# WORK on progress\n",
    "# Predicting dose-response cruves from data acquired with tRAMD \n",
    "\n",
    "## \n",
    "\n",
    "In this notebook we will a simulate mathematical model of a signaling pathway to obtain dose-response curves using kinetic values obtained with the <b>tRAMD</b> tool.\n",
    "\n",
    "<b>tRAMD</b> is a tool developed by *Kokh et al.*:\n",
    "<blockquote>\n",
    "\n",
    "Estimation of Drug-Target Residence Times by τ-Random Acceleration Molecular Dynamics Simulations\n",
    "Daria B. Kokh, Marta Amaral, Joerg Bomke, Ulrich Grädler, Djordje Musil, Hans-Peter Buchstaller, Matthias K. Dreyer, Matthias Frech, Maryse Lowinski, Francois Vallee, Marc Bianciotto, Alexey Rak, and Rebecca C. Wade\n",
    "Journal of Chemical Theory and Computation 2018 14 (7), 3859-3869\n",
    "DOI: 10.1021/acs.jctc.8b00230\n",
    " \n",
    "<a href=\"https://doi.org/10.1021/acs.jctc.8b00230\" target=\"_bank\"> https://doi.org/10.1021/acs.jctc.8b002308</a>\n",
    "</blockquote>\n",
    "\n",
    "\n",
    "\n",
    "This tutorial and the rest in this sequence can be done in Google colab. If you'd like to open this notebook in colab, you can use the following link.\n",
    "\n",
    "<div style='padding:15px'>\n",
    "<a href=\"https://colab.research.google.com/github/rribeiro-sci/SSBtoolkit/blob/main/SSBtoolkit-Tutorial3B-tauRAMD.ipynb\" target=\"_blank\">\n",
    "<img alt=\"Colab\" src=\"https://res.cloudinary.com/djz27k5hg/image/upload/v1637335713/badges/colab-badge_hh0uyl.svg\" height=\"70\" style=\"margin:20px\">\n",
    "</a>\n",
    "</div>\n",
    "\n",
    "## Setup\n",
    "\n",
    "To run SSBColab within Google Colab, you'll need to run the following installation commands. You can of course run this tutorial locally if you prefer.\n",
    "\n",
    "\n",
    "<span style=\"color:black\"> ⚠️ WARNING: this notebook is prepared to run on linux machines. If you intend to run it <b>locally</b> on a different OS (MacOS or Windows) you have to set the BioNetGen environment path manually. Running directly on Google Collab is OS independent.</span>"
   ]
  },
  {
   "cell_type": "markdown",
   "id": "30a49e95",
   "metadata": {
    "id": "30a49e95"
   },
   "source": [
    "# Install Dependencies\n"
   ]
  },
  {
   "cell_type": "code",
   "execution_count": null,
   "id": "f3377103",
   "metadata": {
    "colab": {
     "base_uri": "https://localhost:8080/"
    },
    "executionInfo": {
     "elapsed": 5518,
     "status": "ok",
     "timestamp": 1635242714574,
     "user": {
      "displayName": "Rui Ribeiro",
      "photoUrl": "https://lh3.googleusercontent.com/a-/AOh14Gi84yvw6ZorTaVXfwVkrOJNMNP5kVkqSPOlY8wVAw=s64",
      "userId": "13743218167624867554"
     },
     "user_tz": -120
    },
    "id": "252f9333",
    "outputId": "b2c93d9e-c5b6-491e-a028-78e9bb7f45ba"
   },
   "outputs": [],
   "source": [
    "#@title Install dependencies\n",
    "%%bash\n",
    "\n",
    "# download SSB source code and install dependencies\n",
    "if [ ! -d \"SSBtoolkit/\" ]; then\n",
    "  git clone https://github.com/rribeiro-sci/SSBtoolkit.git --quiet\n",
    "  pip install -r SSBtoolkit/requirements.txt\n",
    "fi\n",
    "\n",
    "cd SSBtoolkit"
   ]
  },
  {
   "cell_type": "code",
   "execution_count": null,
   "id": "b6de58e0",
   "metadata": {
    "executionInfo": {
     "elapsed": 2055,
     "status": "ok",
     "timestamp": 1635242716627,
     "user": {
      "displayName": "Rui Ribeiro",
      "photoUrl": "https://lh3.googleusercontent.com/a-/AOh14Gi84yvw6ZorTaVXfwVkrOJNMNP5kVkqSPOlY8wVAw=s64",
      "userId": "13743218167624867554"
     },
     "user_tz": -120
    },
    "id": "b6de58e0"
   },
   "outputs": [],
   "source": [
    "#Import Python dependencies \n",
    "from src.lib.ssbtoolkit import get\n",
    "import matplotlib as plt"
   ]
  },
  {
   "cell_type": "markdown",
   "id": "26f9f26b",
   "metadata": {},
   "source": [
    "# Loading experimental Data"
   ]
  },
  {
   "cell_type": "code",
   "execution_count": null,
   "id": "b98a218f",
   "metadata": {
    "executionInfo": {
     "elapsed": 454,
     "status": "ok",
     "timestamp": 1635243066530,
     "user": {
      "displayName": "Rui Ribeiro",
      "photoUrl": "https://lh3.googleusercontent.com/a-/AOh14Gi84yvw6ZorTaVXfwVkrOJNMNP5kVkqSPOlY8wVAw=s64",
      "userId": "13743218167624867554"
     },
     "user_tz": -120
    },
    "id": "b98a218f"
   },
   "outputs": [],
   "source": [
    "tADN = get.tauRAMD()\n",
    "tNEC = get.tauRAMD()"
   ]
  },
  {
   "cell_type": "code",
   "execution_count": null,
   "id": "36edfd14",
   "metadata": {},
   "outputs": [],
   "source": [
    "tADN.run(prefix='example/tauRAMD/A2A/times_ADN')\n",
    "tNEC.run(prefix='example/tauRAMD/A2A/times_NEC')\n"
   ]
  },
  {
   "cell_type": "code",
   "execution_count": null,
   "id": "8fca666b",
   "metadata": {},
   "outputs": [],
   "source": [
    "tNEC.plotRTstats()"
   ]
  },
  {
   "cell_type": "code",
   "execution_count": null,
   "id": "3aefa2ea",
   "metadata": {},
   "outputs": [],
   "source": [
    "tNEC.plotRTdistribuitons()"
   ]
  },
  {
   "cell_type": "code",
   "execution_count": null,
   "id": "a8f1435b",
   "metadata": {},
   "outputs": [],
   "source": [
    "tNEC.RTdataframe"
   ]
  },
  {
   "cell_type": "code",
   "execution_count": null,
   "id": "c88861a9",
   "metadata": {},
   "outputs": [],
   "source": [
    "tADN.RT"
   ]
  },
  {
   "cell_type": "markdown",
   "id": "2f124747",
   "metadata": {
    "id": "2f124747"
   },
   "source": [
    "# Congratulations! \n",
    "\n",
    "Congratulations on completing this tutorial notebook! If you enjoyed working through the tutorial, and want to continue working with SSB framework, we encourage you to finish the rest of the tutorials in this series. \n",
    "\n",
    "# Cite Us\n",
    "\n",
    "If you use or adapt this tutorial for your own research projects please cite us.\n",
    "\n",
    "```\n",
    "@article{XXX,\n",
    "    title={XXX},\n",
    "    author={XXX},\n",
    "    publisher={XXX},\n",
    "    note={\\url{XXX}},\n",
    "    year={XXX}\n",
    "}\n",
    "```\n",
    "\n",
    "\n",
    "\n",
    "# Acknowledgments\n",
    "\n",
    "EU Human Brain Project (SGA1 and SGA2): This open source software was developed in part in the Human Brain Project funded from the European Union's Horizon 2020 Framework Programme for Research and Innovation under Specific Grant Agreements No 720270 and No. 78907 (Human Brain Project SGA1 and SGA2).\n",
    "\n",
    "<div style=\"padding-bottom:50px\">\n",
    "<img src=\"https://res.cloudinary.com/djz27k5hg/image/upload/v1637657234/logos/HBP_horizontal_logo_qtcyzn.png\" width=\"300\" align='left' style=\"margin-left:50px\">\n",
    "    <img src=\"https://res.cloudinary.com/djz27k5hg/image/upload/v1642677502/logos/COFUNDED_EU_j2ktlp.jpg\" width=\"300\" align='left' style=\"margin-left:50px\">\n",
    "</div>  "
   ]
  }
 ],
 "metadata": {
  "colab": {
   "collapsed_sections": [],
   "name": "Copy of SSBColab_testing1.ipynb",
   "provenance": [
    {
     "file_id": "https://github.com/rribeiro-sci/SSBColab/blob/main/dose_response_curves_1.ipynb",
     "timestamp": 1632821634793
    }
   ]
  },
  "kernelspec": {
   "display_name": "Python 3",
   "language": "python",
   "name": "python3"
  },
  "language_info": {
   "codemirror_mode": {
    "name": "ipython",
    "version": 3
   },
   "file_extension": ".py",
   "mimetype": "text/x-python",
   "name": "python",
   "nbconvert_exporter": "python",
   "pygments_lexer": "ipython3",
   "version": "3.8.10"
  }
 },
 "nbformat": 4,
 "nbformat_minor": 5
}
