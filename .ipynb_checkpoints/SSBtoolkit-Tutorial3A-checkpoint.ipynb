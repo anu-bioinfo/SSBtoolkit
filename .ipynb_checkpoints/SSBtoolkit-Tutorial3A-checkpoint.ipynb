{
 "cells": [
  {
   "cell_type": "markdown",
   "id": "243882ac",
   "metadata": {
    "id": "243882ac"
   },
   "source": [
    "<div style=\"padding-bottom:50px\">\n",
    "<img src=\"https://res.cloudinary.com/djz27k5hg/image/upload/v1637335206/logos/Logo_des_Forschungszentrums_J_C3_BClich_seit_2018_hcliq4.svg\"  width=250 align='left' style=\"margin-top:30px\"/>\n",
    "<img src=\"https://res.cloudinary.com/djz27k5hg/image/upload/v1637657234/logos/HBP_horizontal_logo_qtcyzn.png\" width=\"300\" align='left' style=\"margin-left:50px\">\n",
    "</div>  \n",
    "\n",
    "<br><br><br><br>\n",
    "\n",
    "# Predicting dose-response curves from ligand kinetic values\n",
    "\n",
    "In this tutorial we will simulate mathematical model of a signaling pathway to obtain dose-response curves, and consequently, predict the *efficacy (EC$_{50}$)* of drugs. \n",
    "\n",
    "\n",
    "\n",
    "\n",
    "This tutorial and the rest in this sequence can be done in Google colab. If you'd like to open this notebook in colab, you can use the following link.\n",
    "\n",
    "<div style='padding:15px'>\n",
    "<a href=\"https://colab.research.google.com/github/rribeiro-sci/SSBtoolkit/blob/main/SSBtoolkit-Tutorial3A.ipynb\" target=\"_blank\">\n",
    "<img alt=\"Colab\" src=\"https://res.cloudinary.com/djz27k5hg/image/upload/v1637335713/badges/colab-badge_hh0uyl.svg\" height=\"70\" style=\"margin:20px\">\n",
    "</a>\n",
    "</div> \n",
    "\n",
    "## Setup\n",
    "\n",
    "To run SSBtoolkit within Google Colab, you'll need to run the following installation commands. You can of course run this tutorial locally if you prefer.\n",
    "\n",
    "\n",
    "<span style=\"color:black\"> ⚠️ WARNING: this notebook is prepared to run on linux machines. If you intend to run it <b>locally</b> on a different OS (MacOS or Windows) you have to set the BioNetGen environment path manually. Running directly on Google colab is OS independent.</span>"
   ]
  },
  {
   "cell_type": "markdown",
   "id": "30a49e95",
   "metadata": {
    "id": "30a49e95"
   },
   "source": [
    "# Install Dependencies\n"
   ]
  },
  {
   "cell_type": "code",
   "execution_count": null,
   "id": "252f9333",
   "metadata": {
    "colab": {
     "base_uri": "https://localhost:8080/"
    },
    "executionInfo": {
     "elapsed": 5518,
     "status": "ok",
     "timestamp": 1635242714574,
     "user": {
      "displayName": "Rui Ribeiro",
      "photoUrl": "https://lh3.googleusercontent.com/a-/AOh14Gi84yvw6ZorTaVXfwVkrOJNMNP5kVkqSPOlY8wVAw=s64",
      "userId": "13743218167624867554"
     },
     "user_tz": -120
    },
    "id": "252f9333",
    "outputId": "b2c93d9e-c5b6-491e-a028-78e9bb7f45ba"
   },
   "outputs": [],
   "source": [
    "#@title Install dependencies\n",
    "%%bash\n",
    "\n",
    "# download SSB source code and install dependencies\n",
    "if [ ! -d \"SSBtoolkit/\" ]; then\n",
    "  git clone https://github.com/rribeiro-sci/SSBtoolkit.git --quiet\n",
    "  pip install -r SSBtoolkit/requirements.txt\n",
    "fi\n"
   ]
  },
  {
   "cell_type": "code",
   "execution_count": null,
   "id": "b09b042b",
   "metadata": {},
   "outputs": [],
   "source": [
    "cd SSBtoolkit"
   ]
  },
  {
   "cell_type": "code",
   "execution_count": 1,
   "id": "b6de58e0",
   "metadata": {
    "executionInfo": {
     "elapsed": 2055,
     "status": "ok",
     "timestamp": 1635242716627,
     "user": {
      "displayName": "Rui Ribeiro",
      "photoUrl": "https://lh3.googleusercontent.com/a-/AOh14Gi84yvw6ZorTaVXfwVkrOJNMNP5kVkqSPOlY8wVAw=s64",
      "userId": "13743218167624867554"
     },
     "user_tz": -120
    },
    "id": "b6de58e0"
   },
   "outputs": [],
   "source": [
    "#Import Python dependencies\n",
    "import os, sys, json, math, site\n",
    "import numpy as np\n",
    "import pandas as pd\n",
    "import seaborn as sns\n",
    "import matplotlib.pyplot as plt\n",
    "\n",
    "from pubchempy import *\n",
    "from sklearn.linear_model import LinearRegression\n",
    "\n",
    "from src.lib.ssbtoolkit import convert, get, simulation"
   ]
  },
  {
   "cell_type": "code",
   "execution_count": 2,
   "id": "a2d70321",
   "metadata": {
    "colab": {
     "base_uri": "https://localhost:8080/"
    },
    "executionInfo": {
     "elapsed": 6,
     "status": "ok",
     "timestamp": 1635242714575,
     "user": {
      "displayName": "Rui Ribeiro",
      "photoUrl": "https://lh3.googleusercontent.com/a-/AOh14Gi84yvw6ZorTaVXfwVkrOJNMNP5kVkqSPOlY8wVAw=s64",
      "userId": "13743218167624867554"
     },
     "user_tz": -120
    },
    "id": "a2d70321",
    "outputId": "711d5d7e-e986-4768-b2b3-df5def7bb698"
   },
   "outputs": [
    {
     "name": "stdout",
     "output_type": "stream",
     "text": [
      "env: PATH=/usr/local/lib/python3.8/dist-packages/bionetgen/bng-linux:/sbin:/usr/sbin:/bin:/usr/bin:/usr/local/bin\n"
     ]
    }
   ],
   "source": [
    "#Setting BioNetGen environment path\n",
    "distpath = site.getsitepackages()[0]\n",
    "BioNetGen=os.path.join(distpath, 'bionetgen/bng-linux:')\n",
    "mypath=%env PATH\n",
    "newpath=BioNetGen+mypath\n",
    "%env PATH=$newpath"
   ]
  },
  {
   "cell_type": "code",
   "execution_count": 3,
   "id": "Pt0PPuiREUIY",
   "metadata": {
    "colab": {
     "base_uri": "https://localhost:8080/"
    },
    "executionInfo": {
     "elapsed": 1631,
     "status": "ok",
     "timestamp": 1635242880257,
     "user": {
      "displayName": "Rui Ribeiro",
      "photoUrl": "https://lh3.googleusercontent.com/a-/AOh14Gi84yvw6ZorTaVXfwVkrOJNMNP5kVkqSPOlY8wVAw=s64",
      "userId": "13743218167624867554"
     },
     "user_tz": -120
    },
    "id": "Pt0PPuiREUIY",
    "outputId": "a74f1455-968d-46ca-eb3c-f76ecf7ccb55"
   },
   "outputs": [],
   "source": [
    "#Test bioservices\n",
    "from bioservices import UniProt\n",
    "u = UniProt(verbose=False)"
   ]
  },
  {
   "cell_type": "markdown",
   "id": "32563baa",
   "metadata": {
    "id": "32563baa"
   },
   "source": [
    "# Loading experimental Data\n",
    "\n",
    "Once the SSBtoolkit environment is set up we are ready to start to simulate.\n",
    "\n",
    "We will begin by load the kinetic data of some ligands of the Adenosine 2A receptor. This data was taken from *([Guo, D. et al., 2017](https://pubs.acs.org/doi/10.1021/acs.chemrev.6b00025))*. This data can be found in `examples/A2AR_Kinetic_values_example.csv`"
   ]
  },
  {
   "cell_type": "code",
   "execution_count": 4,
   "id": "6eb24708",
   "metadata": {
    "colab": {
     "base_uri": "https://localhost:8080/",
     "height": 204
    },
    "executionInfo": {
     "elapsed": 396,
     "status": "ok",
     "timestamp": 1635242763952,
     "user": {
      "displayName": "Rui Ribeiro",
      "photoUrl": "https://lh3.googleusercontent.com/a-/AOh14Gi84yvw6ZorTaVXfwVkrOJNMNP5kVkqSPOlY8wVAw=s64",
      "userId": "13743218167624867554"
     },
     "user_tz": -120
    },
    "id": "6eb24708",
    "outputId": "9cd4dde3-434b-4777-e772-0bfcbb92908a"
   },
   "outputs": [
    {
     "data": {
      "text/html": [
       "<div>\n",
       "<style scoped>\n",
       "    .dataframe tbody tr th:only-of-type {\n",
       "        vertical-align: middle;\n",
       "    }\n",
       "\n",
       "    .dataframe tbody tr th {\n",
       "        vertical-align: top;\n",
       "    }\n",
       "\n",
       "    .dataframe thead th {\n",
       "        text-align: right;\n",
       "    }\n",
       "</style>\n",
       "<table border=\"1\" class=\"dataframe\">\n",
       "  <thead>\n",
       "    <tr style=\"text-align: right;\">\n",
       "      <th></th>\n",
       "      <th>cmpd</th>\n",
       "      <th>target</th>\n",
       "      <th>T (°C)</th>\n",
       "      <th>kon (1/(uM*s))</th>\n",
       "      <th>koff (1/s)</th>\n",
       "      <th>kd (nM)</th>\n",
       "    </tr>\n",
       "  </thead>\n",
       "  <tbody>\n",
       "    <tr>\n",
       "      <th>0</th>\n",
       "      <td>Neca</td>\n",
       "      <td>HEK293hA2AR membranes</td>\n",
       "      <td>4</td>\n",
       "      <td>114.0</td>\n",
       "      <td>3.180</td>\n",
       "      <td>28.000</td>\n",
       "    </tr>\n",
       "    <tr>\n",
       "      <th>1</th>\n",
       "      <td>UK432097</td>\n",
       "      <td>HEK293hA2AR membranes</td>\n",
       "      <td>5</td>\n",
       "      <td>300.0</td>\n",
       "      <td>0.240</td>\n",
       "      <td>8.000</td>\n",
       "    </tr>\n",
       "    <tr>\n",
       "      <th>2</th>\n",
       "      <td>LUF5835</td>\n",
       "      <td>HEK293hA2AR membranes</td>\n",
       "      <td>5</td>\n",
       "      <td>960.0</td>\n",
       "      <td>17.400</td>\n",
       "      <td>18.000</td>\n",
       "    </tr>\n",
       "    <tr>\n",
       "      <th>3</th>\n",
       "      <td>ZM241385</td>\n",
       "      <td>HEK293hA2AR membranes</td>\n",
       "      <td>4</td>\n",
       "      <td>7800.0</td>\n",
       "      <td>0.840</td>\n",
       "      <td>0.110</td>\n",
       "    </tr>\n",
       "    <tr>\n",
       "      <th>4</th>\n",
       "      <td>LUF6805</td>\n",
       "      <td>HEK293hA2AR membranes</td>\n",
       "      <td>4</td>\n",
       "      <td>12000.0</td>\n",
       "      <td>21.000</td>\n",
       "      <td>1.800</td>\n",
       "    </tr>\n",
       "    <tr>\n",
       "      <th>5</th>\n",
       "      <td>LUF6632</td>\n",
       "      <td>HEK293hA2AR membranes</td>\n",
       "      <td>4</td>\n",
       "      <td>2040.0</td>\n",
       "      <td>0.186</td>\n",
       "      <td>0.091</td>\n",
       "    </tr>\n",
       "  </tbody>\n",
       "</table>\n",
       "</div>"
      ],
      "text/plain": [
       "       cmpd                 target  T (°C)  kon (1/(uM*s))  koff (1/s)  \\\n",
       "0      Neca  HEK293hA2AR membranes       4           114.0       3.180   \n",
       "1  UK432097  HEK293hA2AR membranes       5           300.0       0.240   \n",
       "2   LUF5835  HEK293hA2AR membranes       5           960.0      17.400   \n",
       "3  ZM241385  HEK293hA2AR membranes       4          7800.0       0.840   \n",
       "4   LUF6805  HEK293hA2AR membranes       4         12000.0      21.000   \n",
       "5   LUF6632  HEK293hA2AR membranes       4          2040.0       0.186   \n",
       "\n",
       "   kd (nM)  \n",
       "0   28.000  \n",
       "1    8.000  \n",
       "2   18.000  \n",
       "3    0.110  \n",
       "4    1.800  \n",
       "5    0.091  "
      ]
     },
     "execution_count": 4,
     "metadata": {},
     "output_type": "execute_result"
    }
   ],
   "source": [
    "data = pd.read_csv('example/A2AR_Kinetic_values_example.csv')\n",
    "data"
   ]
  },
  {
   "cell_type": "markdown",
   "id": "b9d55f51",
   "metadata": {
    "id": "b9d55f51"
   },
   "source": [
    "Commonly the kinetic parameters, k<sub>on</sub> and k<sub>off</sub>, are measured experimentally at low temperatures in order to slow down the reaction so it can be measured. Therefore, we will use the SSBtoolkit built-in function `convert.KineticTempScale()` to scale the kinetic parameters to room temperature (25 °C). This is achieved using the free energy equation:\n",
    "\n",
    "$ \\Delta G = -RTln(K_d)$ \n",
    "\n",
    "$K_d = \\frac{k_{off}}{k_{on}}$"
   ]
  },
  {
   "cell_type": "code",
   "execution_count": 5,
   "id": "78273bcc",
   "metadata": {},
   "outputs": [
    {
     "data": {
      "text/html": [
       "<div>\n",
       "<style scoped>\n",
       "    .dataframe tbody tr th:only-of-type {\n",
       "        vertical-align: middle;\n",
       "    }\n",
       "\n",
       "    .dataframe tbody tr th {\n",
       "        vertical-align: top;\n",
       "    }\n",
       "\n",
       "    .dataframe thead th {\n",
       "        text-align: right;\n",
       "    }\n",
       "</style>\n",
       "<table border=\"1\" class=\"dataframe\">\n",
       "  <thead>\n",
       "    <tr style=\"text-align: right;\">\n",
       "      <th></th>\n",
       "      <th>cmpd</th>\n",
       "      <th>target</th>\n",
       "      <th>T (°C)</th>\n",
       "      <th>kon (1/(uM*s))</th>\n",
       "      <th>koff (1/s)</th>\n",
       "      <th>kd (nM)</th>\n",
       "    </tr>\n",
       "  </thead>\n",
       "  <tbody>\n",
       "    <tr>\n",
       "      <th>0</th>\n",
       "      <td>Neca</td>\n",
       "      <td>HEK293hA2AR membranes</td>\n",
       "      <td>25</td>\n",
       "      <td>122.638</td>\n",
       "      <td>3.421</td>\n",
       "      <td>28.000</td>\n",
       "    </tr>\n",
       "    <tr>\n",
       "      <th>1</th>\n",
       "      <td>UK432097</td>\n",
       "      <td>HEK293hA2AR membranes</td>\n",
       "      <td>25</td>\n",
       "      <td>321.571</td>\n",
       "      <td>0.257</td>\n",
       "      <td>8.000</td>\n",
       "    </tr>\n",
       "    <tr>\n",
       "      <th>2</th>\n",
       "      <td>LUF5835</td>\n",
       "      <td>HEK293hA2AR membranes</td>\n",
       "      <td>25</td>\n",
       "      <td>1029.028</td>\n",
       "      <td>18.651</td>\n",
       "      <td>18.000</td>\n",
       "    </tr>\n",
       "    <tr>\n",
       "      <th>3</th>\n",
       "      <td>ZM241385</td>\n",
       "      <td>HEK293hA2AR membranes</td>\n",
       "      <td>25</td>\n",
       "      <td>8391.016</td>\n",
       "      <td>0.904</td>\n",
       "      <td>0.110</td>\n",
       "    </tr>\n",
       "    <tr>\n",
       "      <th>4</th>\n",
       "      <td>LUF6805</td>\n",
       "      <td>HEK293hA2AR membranes</td>\n",
       "      <td>25</td>\n",
       "      <td>12909.255</td>\n",
       "      <td>22.591</td>\n",
       "      <td>1.800</td>\n",
       "    </tr>\n",
       "    <tr>\n",
       "      <th>5</th>\n",
       "      <td>LUF6632</td>\n",
       "      <td>HEK293hA2AR membranes</td>\n",
       "      <td>25</td>\n",
       "      <td>2194.573</td>\n",
       "      <td>0.200</td>\n",
       "      <td>0.091</td>\n",
       "    </tr>\n",
       "  </tbody>\n",
       "</table>\n",
       "</div>"
      ],
      "text/plain": [
       "       cmpd                 target  T (°C)  kon (1/(uM*s))  koff (1/s)  \\\n",
       "0      Neca  HEK293hA2AR membranes      25         122.638       3.421   \n",
       "1  UK432097  HEK293hA2AR membranes      25         321.571       0.257   \n",
       "2   LUF5835  HEK293hA2AR membranes      25        1029.028      18.651   \n",
       "3  ZM241385  HEK293hA2AR membranes      25        8391.016       0.904   \n",
       "4   LUF6805  HEK293hA2AR membranes      25       12909.255      22.591   \n",
       "5   LUF6632  HEK293hA2AR membranes      25        2194.573       0.200   \n",
       "\n",
       "   kd (nM)  \n",
       "0   28.000  \n",
       "1    8.000  \n",
       "2   18.000  \n",
       "3    0.110  \n",
       "4    1.800  \n",
       "5    0.091  "
      ]
     },
     "execution_count": 5,
     "metadata": {},
     "output_type": "execute_result"
    }
   ],
   "source": [
    "#We will create a new dataframe with the scaled values \n",
    "data_scaled = data.copy()\n",
    "data_scaled['kon (1/(uM*s))'] = data.apply(lambda row: convert.KineticTempScale(row['kon (1/(uM*s))'],row['koff (1/s)'], row['T (°C)'], 25, Tu='C')[0], axis=1)\n",
    "data_scaled['koff (1/s)'] = data.apply(lambda row: convert.KineticTempScale(row['kon (1/(uM*s))'],row['koff (1/s)'], row['T (°C)'], 25, Tu='C')[1], axis=1)\n",
    "data_scaled['T (°C)'] = 25\n",
    "data_scaled"
   ]
  },
  {
   "cell_type": "markdown",
   "id": "2582a824",
   "metadata": {
    "id": "2582a824"
   },
   "source": [
    "# Selecting the signaling pathway \n",
    "\n",
    "The core of the SSBtoolkit is, naturally, the mathematical models of the signaling pathways. \n",
    "\n",
    "Since G-protein sub-families are classified by their $\\alpha$ subunits, this classfication as been served to identify their signaling pathways:\n",
    "* G<sub>s</sub>\n",
    "* G<sub>i/o</sub>\n",
    "* G<sub>q/11</sub>\n",
    "* G<sub>12/13</sub>\n",
    "\n",
    "📖 See [The SSB Framework](https://github.com/rribeiro-sci/SSBtoolkit/blob/main/docs/ssb_framework.md) documentation for more details.\n",
    "\n",
    "We can define manualy the G$\\alpha$ pathway we want to work with, or simply query our internal database of human GPCR pathways using the UNIPROT id of our receptor. The UNIPROT id for the human Adenosine A2 receptot is [P29274](https://www.uniprot.org/uniprot/P29274)."
   ]
  },
  {
   "cell_type": "code",
   "execution_count": 6,
   "id": "a13d4b1d",
   "metadata": {
    "colab": {
     "base_uri": "https://localhost:8080/",
     "height": 54
    },
    "executionInfo": {
     "elapsed": 316,
     "status": "ok",
     "timestamp": 1635242721789,
     "user": {
      "displayName": "Rui Ribeiro",
      "photoUrl": "https://lh3.googleusercontent.com/a-/AOh14Gi84yvw6ZorTaVXfwVkrOJNMNP5kVkqSPOlY8wVAw=s64",
      "userId": "13743218167624867554"
     },
     "user_tz": -120
    },
    "id": "a13d4b1d",
    "outputId": "f224a164-aa38-4c55-e029-9c0d3f338f7e"
   },
   "outputs": [
    {
     "data": {
      "text/plain": [
       "'Gs'"
      ]
     },
     "execution_count": 6,
     "metadata": {},
     "output_type": "execute_result"
    }
   ],
   "source": [
    "uniprotID = 'P29274'\n",
    "gprotein=get.gprotein(uniprotID)\n",
    "gprotein"
   ]
  },
  {
   "cell_type": "markdown",
   "id": "f22b9785",
   "metadata": {
    "id": "f22b9785"
   },
   "source": [
    "💡 It is also possible to known the associated G$\\alpha$ pathway of a GPCR using the primary sequence, see in [Docs](https://github.com/rribeiro-sci/SSBtookit/blob/main/docs/ssb_code.md).\n",
    "\n",
    "\n",
    "<span style=\"color:black\">⚠️ WARNING: our framework was specifically design for human GPCR. The quering for pathways for GPCRs other than Human may be included in the future. However you want to study a non-human GPCR you can still use the SSB framework by setting manually the G$\\alpha$ pathway.</span>"
   ]
  },
  {
   "cell_type": "markdown",
   "id": "90fa3c37",
   "metadata": {
    "id": "90fa3c37"
   },
   "source": [
    "# Setting the parameters for simulation\n",
    "\n",
    "To predict a dose-response curve from the simulation of signaling pathways, individual simulations of the pathway according to a series of ligand's concentrations must be performed (as it would be done in the wet-lab).  \n",
    "\n",
    "To define an array of ligand concentrations we will use a geometric progression. The reason why we use a geometric progression is due to the impact of the dilution fraction on the accuracy of K<sub>d</sub> and EC<sub>50</sub>/IC<sub>50</sub> values experimentally estimated. This factor, that defines the spacing between the adjacent concentration values, has an impact on the concentration values that are on the linear portion of the curve. Therefore, using a geometric progression we can mimic the experimental conditions where each concentration equals to the power of 2 of the previous lowest concentration *([Sebaugh, J.L., 2011](https://doi.org/10.1002/pst.426))*\n",
    "\n",
    "<span style=\"color:black\"> ⚠️ WARNING: the SSB toolkit uses μM as default concentration units.</span>\n"
   ]
  },
  {
   "cell_type": "code",
   "execution_count": 7,
   "id": "1dd753fc",
   "metadata": {
    "executionInfo": {
     "elapsed": 743,
     "status": "ok",
     "timestamp": 1635242786029,
     "user": {
      "displayName": "Rui Ribeiro",
      "photoUrl": "https://lh3.googleusercontent.com/a-/AOh14Gi84yvw6ZorTaVXfwVkrOJNMNP5kVkqSPOlY8wVAw=s64",
      "userId": "13743218167624867554"
     },
     "user_tz": -120
    },
    "id": "1dd753fc"
   },
   "outputs": [],
   "source": [
    "# the range of ligand concentration\n",
    "lig_conc_min = 1E-4 # μM\n",
    "lig_conc_max = 1E4  # μM\n",
    "lig_conc_range = np.geomspace(lig_conc_min, lig_conc_max, 20) # 20 concentration values\n",
    "\n",
    "# Setting receptor concentration\n",
    "receptor_conc = 1E-3 #μM\n",
    "\n",
    "# defining other simulation parameters:\n",
    "time = 10000  # time of simulation in seconds\n",
    "dt   = 1000     # integration step for simulation\n"
   ]
  },
  {
   "cell_type": "markdown",
   "id": "2ec0b301",
   "metadata": {
    "id": "2ec0b301"
   },
   "source": [
    "## Running the simulation\n",
    "\n",
    "After having defined all the simulation parameters we are ready to proceed with the simulations. A simulation of a methamatical model of a signaling pathway consists of the integration of a set of ordinary differential equations (ODEs) as function of time. Since each ODE represents a molecular event of the signaling pathway, when integrated over time, such equations can describe how the concentration of species inside the model changes over time.\n",
    "\n",
    "In the <b>Tutorial1</b>, the key point is using  the drug-receptor affinity value (K<sub>d</sub>) to fire up the model. However, in this tutorial we will use the kinetic parameters to simulate the ligand-receptor binding.\n",
    "\n",
    "Because we are using kinetic values we have to set `kinetics=True` in the `simulation.SetSimulationParameters()` instance. If we use option `kinetcs=True`, we also need to pass to the instance a dictionary of parameters. We can see a list of all parameters that can be changed for each pathway [here](https://github.com/rribeiro-sci/SSBtoolkit/tree/main/SI).\n",
    "\n",
    "For this tutorial we just need to include the following kinetic parameters:\n",
    "* `RL_kon` for the ligand-receptor interaction forward parameter (μM<sup>-1</sup>s<sup>-1</sup>)\n",
    "* `RL_koff` for the ligand-receptor interaction reverse parameter (s<sup>-1</sup>)"
   ]
  },
  {
   "cell_type": "code",
   "execution_count": 8,
   "id": "b31f4d4b",
   "metadata": {},
   "outputs": [],
   "source": [
    "#preparing the parameters for each ligand:\n",
    "kinetic_parameters=[]\n",
    "for k, v in data_scaled.iterrows():\n",
    "    kinetic_parameters.append({'RL_kon':v['kon (1/(uM*s))'],'RL_koff':v['koff (1/s)']})"
   ]
  },
  {
   "cell_type": "code",
   "execution_count": 9,
   "id": "53e4a1a8",
   "metadata": {},
   "outputs": [],
   "source": [
    "#create a simulation instance.\n",
    "sim = simulation.activation()"
   ]
  },
  {
   "cell_type": "code",
   "execution_count": 10,
   "id": "d2933b73",
   "metadata": {},
   "outputs": [],
   "source": [
    "#Setting the simulation parameters\n",
    "sim.SetSimulationParameters(ligands=data_scaled.cmpd.to_list()[1:3], \n",
    "                              pathway=gprotein, \n",
    "                              receptor_conc=receptor_conc, \n",
    "                              lig_conc_range=lig_conc_range, \n",
    "                              ttotal=time, \n",
    "                              nsteps=dt,  \n",
    "                              kinetics=True, \n",
    "                              kinetic_parameters=kinetic_parameters)\n"
   ]
  },
  {
   "cell_type": "code",
   "execution_count": 12,
   "id": "99f57694",
   "metadata": {},
   "outputs": [
    {
     "data": {
      "application/vnd.jupyter.widget-view+json": {
       "model_id": "1dd83e756425443e9d24976e18735d6c",
       "version_major": 2,
       "version_minor": 0
      },
      "text/plain": [
       "QgridWidget(grid_options={'fullWidthRows': True, 'syncColumnCellResize': True, 'forceFitColumns': True, 'defau…"
      ]
     },
     "metadata": {},
     "output_type": "display_data"
    }
   ],
   "source": [
    "sim.PathwayParameters()"
   ]
  },
  {
   "cell_type": "code",
   "execution_count": null,
   "id": "42df9417",
   "metadata": {
    "colab": {
     "base_uri": "https://localhost:8080/"
    },
    "executionInfo": {
     "elapsed": 416269,
     "status": "ok",
     "timestamp": 1635243487755,
     "user": {
      "displayName": "Rui Ribeiro",
      "photoUrl": "https://lh3.googleusercontent.com/a-/AOh14Gi84yvw6ZorTaVXfwVkrOJNMNP5kVkqSPOlY8wVAw=s64",
      "userId": "13743218167624867554"
     },
     "user_tz": -120
    },
    "id": "42df9417",
    "outputId": "edac904b-6981-48f5-825b-d9ca850cd31b"
   },
   "outputs": [],
   "source": [
    "#Running the simulation\n",
    "sim.Run()"
   ]
  },
  {
   "cell_type": "markdown",
   "id": "b6332846",
   "metadata": {
    "id": "b6332846"
   },
   "source": [
    "In the end, the concentration values of the species of the signaling pathway over the simulation time will be saved inside the instance.\n",
    "\n",
    "The response of a signaling pathway is, naturally, represented by the increase or decrease of one of the species described by the model. So, to predict the dose-response curve we need, firstly, to extract the maximum concentration value orbserved for one specie from each individual simulation (from the series of simulations for each ligand concentration). Then, such values will be fitted to a logistic regression. \n",
    "\n",
    "To achieve this, we will use the analysis attribute:"
   ]
  },
  {
   "cell_type": "code",
   "execution_count": null,
   "id": "15cc2c79",
   "metadata": {
    "executionInfo": {
     "elapsed": 502,
     "status": "ok",
     "timestamp": 1635243570765,
     "user": {
      "displayName": "Rui Ribeiro",
      "photoUrl": "https://lh3.googleusercontent.com/a-/AOh14Gi84yvw6ZorTaVXfwVkrOJNMNP5kVkqSPOlY8wVAw=s64",
      "userId": "13743218167624867554"
     },
     "user_tz": -120
    },
    "id": "15cc2c79"
   },
   "outputs": [],
   "source": [
    "sim.Analysis()"
   ]
  },
  {
   "cell_type": "markdown",
   "id": "512c47fb",
   "metadata": {},
   "source": [
    "We can now to plot the dose-response curves:"
   ]
  },
  {
   "cell_type": "code",
   "execution_count": null,
   "id": "73b02402",
   "metadata": {
    "colab": {
     "base_uri": "https://localhost:8080/",
     "height": 667,
     "output_embedded_package_id": "1fZnuf91nfkH4RA5DnAbfv0nxXjTr1CaU"
    },
    "executionInfo": {
     "elapsed": 57358,
     "status": "ok",
     "timestamp": 1635243629767,
     "user": {
      "displayName": "Rui Ribeiro",
      "photoUrl": "https://lh3.googleusercontent.com/a-/AOh14Gi84yvw6ZorTaVXfwVkrOJNMNP5kVkqSPOlY8wVAw=s64",
      "userId": "13743218167624867554"
     },
     "user_tz": -120
    },
    "id": "73b02402",
    "outputId": "e1f6ee2e-d2b1-4bf5-fbf6-c875ed150ff5"
   },
   "outputs": [],
   "source": [
    "sim.Curve()"
   ]
  },
  {
   "cell_type": "markdown",
   "id": "e1ec8748",
   "metadata": {
    "id": "e1ec8748"
   },
   "source": [
    "Finnaly, from the dose-response curves we can interpolate the EC<sub>50</sub> values.\n"
   ]
  },
  {
   "cell_type": "code",
   "execution_count": null,
   "id": "31bb7f25",
   "metadata": {
    "colab": {
     "base_uri": "https://localhost:8080/",
     "height": 204
    },
    "executionInfo": {
     "elapsed": 24,
     "status": "ok",
     "timestamp": 1635243629768,
     "user": {
      "displayName": "Rui Ribeiro",
      "photoUrl": "https://lh3.googleusercontent.com/a-/AOh14Gi84yvw6ZorTaVXfwVkrOJNMNP5kVkqSPOlY8wVAw=s64",
      "userId": "13743218167624867554"
     },
     "user_tz": -120
    },
    "id": "31bb7f25",
    "outputId": "0a96c0c4-de7e-45d2-c9f7-5e2f42ac402e"
   },
   "outputs": [],
   "source": [
    "sim.Potency()"
   ]
  },
  {
   "cell_type": "markdown",
   "id": "c7372de5",
   "metadata": {},
   "source": [
    "💡 The potency predicted values can be exported as a python dictionary usinf the attribute `sim.PotencyToDict()` or saved in a csv file using the attribute `sim.PotencyToCSV()`. 📖 See the [Docs](https://github.com/rribeiro-sci/SSBtoolkit/blob/main/docs/ssb_code.md) to know how to save directly on Google Drive and for more details."
   ]
  },
  {
   "cell_type": "markdown",
   "id": "2f124747",
   "metadata": {
    "id": "2f124747"
   },
   "source": [
    "# Congratulations!\n",
    "\n",
    "Congratulations on completing this tutorial notebook! If you enjoyed working through the tutorial, and want to continue working with SSB framework, we encourage you to finish the rest of the tutorials in this series. \n",
    "\n",
    "# Cite Us\n",
    "\n",
    "If you use or adapt this tutorial for your own research projects please cite us.\n",
    "\n",
    "```\n",
    "@article{XXX,\n",
    "    title={XXX},\n",
    "    author={XXX},\n",
    "    publisher={XXX},\n",
    "    note={\\url{XXX}},\n",
    "    year={XXX}\n",
    "}\n",
    "```\n",
    "\n",
    "# Acknowledgments\n",
    "\n",
    "EU Human Brain Project (SGA1 and SGA2): This open source software was developed in part in the Human Brain Project funded from the European Union's Horizon 2020 Framework Programme for Research and Innovation under Specific Grant Agreements No 720270 and No. 78907 (Human Brain Project SGA1 and SGA2).\n",
    "\n",
    "<div style=\"padding-bottom:50px\">\n",
    "<img src=\"https://res.cloudinary.com/djz27k5hg/image/upload/v1637657234/logos/HBP_horizontal_logo_qtcyzn.png\" width=\"300\" align='left' style=\"margin-left:50px\">\n",
    "    <img src=\"https://res.cloudinary.com/djz27k5hg/image/upload/v1642677502/logos/COFUNDED_EU_j2ktlp.jpg\" width=\"300\" align='left' style=\"margin-left:50px\">\n",
    "</div>  "
   ]
  }
 ],
 "metadata": {
  "colab": {
   "collapsed_sections": [],
   "name": "Copy of SSBColab_testing1.ipynb",
   "provenance": [
    {
     "file_id": "https://github.com/rribeiro-sci/SSBColab/blob/main/dose_response_curves_1.ipynb",
     "timestamp": 1632821634793
    }
   ]
  },
  "kernelspec": {
   "display_name": "Python 3",
   "language": "python",
   "name": "python3"
  },
  "language_info": {
   "codemirror_mode": {
    "name": "ipython",
    "version": 3
   },
   "file_extension": ".py",
   "mimetype": "text/x-python",
   "name": "python",
   "nbconvert_exporter": "python",
   "pygments_lexer": "ipython3",
   "version": "3.8.10"
  }
 },
 "nbformat": 4,
 "nbformat_minor": 5
}
